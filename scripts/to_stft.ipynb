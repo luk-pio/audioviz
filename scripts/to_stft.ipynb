{
 "cells": [
  {
   "cell_type": "code",
   "execution_count": 2,
   "metadata": {},
   "outputs": [
    {
     "name": "stdout",
     "output_type": "stream",
     "text": [
      "generated finger print for cel (100, 32, 32)\n",
      "generated finger print for cla (100, 32, 32)\n",
      "generated finger print for flu (100, 32, 32)\n",
      "generated finger print for gac (100, 32, 32)\n",
      "generated finger print for gel (100, 32, 32)\n",
      "generated finger print for org (100, 32, 32)\n",
      "generated finger print for pia (100, 32, 32)\n",
      "generated finger print for sax (100, 32, 32)\n",
      "generated finger print for tru (100, 32, 32)\n",
      "generated finger print for vio (100, 32, 32)\n",
      "generated finger print for voi (100, 32, 32)\n",
      "saved cel_stft.npy\n",
      "saved cla_stft.npy\n",
      "saved flu_stft.npy\n",
      "saved gac_stft.npy\n",
      "saved gel_stft.npy\n",
      "saved org_stft.npy\n",
      "saved pia_stft.npy\n",
      "saved sax_stft.npy\n",
      "saved tru_stft.npy\n",
      "saved vio_stft.npy\n",
      "saved voi_stft.npy\n"
     ]
    }
   ],
   "source": [
    "n_fft = 1024\n",
    "hop_length = n_fft/4\n",
    "use_logamp = False # boost the brightness of quiet sounds\n",
    "reduce_rows = 10 # how many frequency bands to average into one\n",
    "reduce_cols = 1 # how many time steps to average into one\n",
    "crop_rows = 32 # limit how many frequency bands to use\n",
    "crop_cols = 32 # limit how many time steps to use\n",
    "limit = None \n",
    "\n",
    "from os.path import join\n",
    "from matplotlib import pyplot as plt\n",
    "from skimage.measure import block_reduce\n",
    "from multiprocessing import Pool\n",
    "import numpy as np\n",
    "import librosa\n",
    "\n",
    "from utils import CLASSNAMES, SAMPLE_DIR, FEATURE_DIR\n",
    "\n",
    "sample_fingerprints = {}\n",
    "samples = {}\n",
    "for d in CLASSNAMES:\n",
    "    samples[d] = np.load(join(SAMPLE_DIR, d+'_samples.npy'))\n",
    "\n",
    "window = np.hanning(n_fft)\n",
    "def job(y):\n",
    "    S = librosa.stft(y, n_fft=n_fft, hop_length=hop_length, window=window)\n",
    "    amp = np.abs(S)\n",
    "    if reduce_rows > 1 or reduce_cols > 1:\n",
    "        amp = block_reduce(amp, (reduce_rows, reduce_cols), func=np.mean)\n",
    "    if amp.shape[1] < crop_cols:\n",
    "        amp = np.pad(amp, ((0, 0), (0, crop_cols-amp.shape[1])), 'constant')\n",
    "    amp = amp[:crop_rows, :crop_cols]\n",
    "    if use_logamp:\n",
    "        amp = librosa.logamplitude(amp**2)\n",
    "    amp -= amp.min()\n",
    "    if amp.max() > 0:\n",
    "        amp /= amp.max()\n",
    "    amp = np.flipud(amp) # for visualization, put low frequencies on bottom\n",
    "    return amp\n",
    "\n",
    "for d in CLASSNAMES:\n",
    "    pool = Pool()\n",
    "    fingerprints = pool.map(job, samples[d][:limit])\n",
    "    fingerprints = np.asarray(fingerprints).astype(np.float32)\n",
    "    sample_fingerprints[d] = fingerprints\n",
    "    print \"generated finger print for\", d, fingerprints.shape\n",
    "\n",
    "for d in CLASSNAMES:\n",
    "    np.save(join(FEATURE_DIR, d+'_stft.npy'), sample_fingerprints[d])\n",
    "    print \"saved\", d+'_stft.npy'\n"
   ]
  },
  {
   "cell_type": "code",
   "execution_count": null,
   "metadata": {},
   "outputs": [],
   "source": []
  }
 ],
 "metadata": {
  "kernelspec": {
   "display_name": "venv",
   "language": "python",
   "name": "venv"
  },
  "language_info": {
   "codemirror_mode": {
    "name": "ipython",
    "version": 2
   },
   "file_extension": ".py",
   "mimetype": "text/x-python",
   "name": "python",
   "nbconvert_exporter": "python",
   "pygments_lexer": "ipython2",
   "version": "2.7.17"
  }
 },
 "nbformat": 4,
 "nbformat_minor": 2
}
