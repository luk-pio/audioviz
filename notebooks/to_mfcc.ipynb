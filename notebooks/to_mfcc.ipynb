{
 "cells": [
  {
   "cell_type": "code",
   "execution_count": 8,
   "metadata": {},
   "outputs": [
    {
     "name": "stderr",
     "output_type": "stream",
     "text": [
      "  0%|          | 0/11 [00:00<?, ?it/s]\n",
      "  0%|          | 0/100 [00:00<?, ?it/s]\u001b[A\n",
      " 23%|██▎       | 23/100 [00:00<00:00, 222.41it/s]\u001b[A"
     ]
    },
    {
     "name": "stdout",
     "output_type": "stream",
     "text": [
      "(30, 24)\n"
     ]
    },
    {
     "name": "stderr",
     "output_type": "stream",
     "text": [
      "\n",
      " 45%|████▌     | 45/100 [00:00<00:00, 220.08it/s]\u001b[A\n",
      " 66%|██████▌   | 66/100 [00:00<00:00, 215.72it/s]\u001b[A\n",
      "100%|██████████| 100/100 [00:00<00:00, 215.13it/s][A\n",
      "  9%|▉         | 1/11 [00:00<00:04,  2.12it/s]\n",
      "  0%|          | 0/100 [00:00<?, ?it/s]\u001b[A\n",
      " 23%|██▎       | 23/100 [00:00<00:00, 226.37it/s]\u001b[A"
     ]
    },
    {
     "name": "stdout",
     "output_type": "stream",
     "text": [
      "('cel', (100, 30, 24))\n"
     ]
    },
    {
     "name": "stderr",
     "output_type": "stream",
     "text": [
      "\n",
      " 44%|████▍     | 44/100 [00:00<00:00, 220.16it/s]\u001b[A\n",
      " 65%|██████▌   | 65/100 [00:00<00:00, 214.60it/s]\u001b[A\n",
      "100%|██████████| 100/100 [00:00<00:00, 208.52it/s][A\n",
      " 18%|█▊        | 2/11 [00:00<00:04,  2.10it/s]\n",
      "  0%|          | 0/100 [00:00<?, ?it/s]\u001b[A\n",
      " 22%|██▏       | 22/100 [00:00<00:00, 216.73it/s]\u001b[A"
     ]
    },
    {
     "name": "stdout",
     "output_type": "stream",
     "text": [
      "('cla', (100, 30, 24))\n"
     ]
    },
    {
     "name": "stderr",
     "output_type": "stream",
     "text": [
      "\n",
      " 35%|███▌      | 35/100 [00:00<00:00, 179.00it/s]\u001b[A\n",
      " 56%|█████▌    | 56/100 [00:00<00:00, 186.81it/s]\u001b[A\n",
      "100%|██████████| 100/100 [00:00<00:00, 198.04it/s][A\n",
      " 27%|██▋       | 3/11 [00:01<00:03,  2.05it/s]\n",
      "  0%|          | 0/100 [00:00<?, ?it/s]\u001b[A\n",
      " 15%|█▌        | 15/100 [00:00<00:00, 148.30it/s]\u001b[A"
     ]
    },
    {
     "name": "stdout",
     "output_type": "stream",
     "text": [
      "('flu', (100, 30, 24))\n"
     ]
    },
    {
     "name": "stderr",
     "output_type": "stream",
     "text": [
      "\n",
      " 37%|███▋      | 37/100 [00:00<00:00, 163.07it/s]\u001b[A\n",
      " 60%|██████    | 60/100 [00:00<00:00, 178.56it/s]\u001b[A\n",
      "100%|██████████| 100/100 [00:00<00:00, 204.50it/s][A\n",
      " 36%|███▋      | 4/11 [00:01<00:03,  2.04it/s]\n",
      "  0%|          | 0/100 [00:00<?, ?it/s]\u001b[A\n",
      " 13%|█▎        | 13/100 [00:00<00:00, 124.51it/s]\u001b[A"
     ]
    },
    {
     "name": "stdout",
     "output_type": "stream",
     "text": [
      "('gac', (100, 30, 24))\n"
     ]
    },
    {
     "name": "stderr",
     "output_type": "stream",
     "text": [
      "\n",
      " 35%|███▌      | 35/100 [00:00<00:00, 142.78it/s]\u001b[A\n",
      " 47%|████▋     | 47/100 [00:00<00:00, 131.82it/s]\u001b[A\n",
      " 69%|██████▉   | 69/100 [00:00<00:00, 149.11it/s]\u001b[A\n",
      "100%|██████████| 100/100 [00:00<00:00, 169.27it/s][A\n",
      " 45%|████▌     | 5/11 [00:02<00:03,  1.91it/s]\n",
      "  0%|          | 0/100 [00:00<?, ?it/s]\u001b[A\n",
      " 14%|█▍        | 14/100 [00:00<00:00, 139.69it/s]\u001b[A"
     ]
    },
    {
     "name": "stdout",
     "output_type": "stream",
     "text": [
      "('gel', (100, 30, 24))\n"
     ]
    },
    {
     "name": "stderr",
     "output_type": "stream",
     "text": [
      "\n",
      " 28%|██▊       | 28/100 [00:00<00:00, 139.76it/s]\u001b[A\n",
      " 51%|█████     | 51/100 [00:00<00:00, 157.00it/s]\u001b[A\n",
      " 74%|███████▍  | 74/100 [00:00<00:00, 172.07it/s]\u001b[A\n",
      "100%|██████████| 100/100 [00:00<00:00, 188.68it/s][A\n",
      " 55%|█████▍    | 6/11 [00:03<00:02,  1.89it/s]\n",
      "  0%|          | 0/100 [00:00<?, ?it/s]\u001b[A\n",
      " 17%|█▋        | 17/100 [00:00<00:00, 164.08it/s]\u001b[A"
     ]
    },
    {
     "name": "stdout",
     "output_type": "stream",
     "text": [
      "('org', (100, 30, 24))\n"
     ]
    },
    {
     "name": "stderr",
     "output_type": "stream",
     "text": [
      "\n",
      " 36%|███▌      | 36/100 [00:00<00:00, 169.40it/s]\u001b[A\n",
      " 51%|█████     | 51/100 [00:00<00:00, 162.82it/s]\u001b[A\n",
      " 73%|███████▎  | 73/100 [00:00<00:00, 176.01it/s]\u001b[A\n",
      "100%|██████████| 100/100 [00:00<00:00, 182.79it/s][A\n",
      " 64%|██████▎   | 7/11 [00:03<00:02,  1.86it/s]\n",
      "  0%|          | 0/100 [00:00<?, ?it/s]\u001b[A\n",
      " 22%|██▏       | 22/100 [00:00<00:00, 215.17it/s]\u001b[A"
     ]
    },
    {
     "name": "stdout",
     "output_type": "stream",
     "text": [
      "('pia', (100, 30, 24))\n"
     ]
    },
    {
     "name": "stderr",
     "output_type": "stream",
     "text": [
      "\n",
      " 43%|████▎     | 43/100 [00:00<00:00, 210.00it/s]\u001b[A\n",
      " 60%|██████    | 60/100 [00:00<00:00, 195.30it/s]\u001b[A\n",
      " 78%|███████▊  | 78/100 [00:00<00:00, 190.11it/s]\u001b[A\n",
      "100%|██████████| 100/100 [00:00<00:00, 193.98it/s]\u001b[A\n",
      " 73%|███████▎  | 8/11 [00:04<00:01,  1.88it/s]\n",
      "  0%|          | 0/100 [00:00<?, ?it/s]\u001b[A\n",
      " 21%|██        | 21/100 [00:00<00:00, 206.49it/s]\u001b[A"
     ]
    },
    {
     "name": "stdout",
     "output_type": "stream",
     "text": [
      "('sax', (100, 30, 24))\n"
     ]
    },
    {
     "name": "stderr",
     "output_type": "stream",
     "text": [
      "\n",
      " 43%|████▎     | 43/100 [00:00<00:00, 207.00it/s]\u001b[A\n",
      " 58%|█████▊    | 58/100 [00:00<00:00, 183.04it/s]\u001b[A\n",
      " 70%|███████   | 70/100 [00:00<00:00, 156.49it/s]\u001b[A\n",
      " 84%|████████▍ | 84/100 [00:00<00:00, 149.76it/s]\u001b[A\n",
      "100%|██████████| 100/100 [00:00<00:00, 159.21it/s][A\n",
      " 82%|████████▏ | 9/11 [00:04<00:01,  1.77it/s]\n",
      "  0%|          | 0/100 [00:00<?, ?it/s]\u001b[A\n",
      " 22%|██▏       | 22/100 [00:00<00:00, 216.13it/s]\u001b[A"
     ]
    },
    {
     "name": "stdout",
     "output_type": "stream",
     "text": [
      "('tru', (100, 30, 24))\n"
     ]
    },
    {
     "name": "stderr",
     "output_type": "stream",
     "text": [
      "\n",
      " 35%|███▌      | 35/100 [00:00<00:00, 177.61it/s]\u001b[A\n",
      " 48%|████▊     | 48/100 [00:00<00:00, 158.95it/s]\u001b[A\n",
      " 70%|███████   | 70/100 [00:00<00:00, 172.80it/s]\u001b[A\n",
      "100%|██████████| 100/100 [00:00<00:00, 173.02it/s][A\n",
      " 91%|█████████ | 10/11 [00:05<00:00,  1.75it/s]\n",
      "  0%|          | 0/100 [00:00<?, ?it/s]\u001b[A\n",
      " 18%|█▊        | 18/100 [00:00<00:00, 176.94it/s]\u001b[A"
     ]
    },
    {
     "name": "stdout",
     "output_type": "stream",
     "text": [
      "('vio', (100, 30, 24))\n"
     ]
    },
    {
     "name": "stderr",
     "output_type": "stream",
     "text": [
      "\n",
      " 39%|███▉      | 39/100 [00:00<00:00, 183.68it/s]\u001b[A\n",
      " 51%|█████     | 51/100 [00:00<00:00, 157.00it/s]\u001b[A\n",
      " 71%|███████   | 71/100 [00:00<00:00, 166.39it/s]\u001b[A\n",
      "100%|██████████| 100/100 [00:00<00:00, 174.62it/s][A\n",
      "100%|██████████| 11/11 [00:06<00:00,  1.83it/s]\n"
     ]
    },
    {
     "name": "stdout",
     "output_type": "stream",
     "text": [
      "('voi', (100, 30, 24))\n"
     ]
    },
    {
     "data": {
      "image/png": "[encoded data removed]",
      "text/plain": [
       "<Figure size 432x288 with 1 Axes>"
      ]
     },
     "metadata": {
      "needs_background": "light"
     },
     "output_type": "display_data"
    }
   ],
   "source": [
    "# This notebook converts audio samples .npy in diretory ./sample_data into MFCC features located in ./sample_features.\n",
    "# Output dimensions per file is (30,24)\n",
    "from os.path import join\n",
    "from matplotlib import pyplot as plt\n",
    "from skimage.measure import block_reduce\n",
    "from multiprocessing import Pool\n",
    "import numpy as np\n",
    "import librosa\n",
    "from tqdm import tqdm\n",
    "\n",
    "from utils import FEATURE_DIR, CLASSNAMES, SAMPLE_DIR\n",
    "\n",
    "data_root = SAMPLE_DIR\n",
    "\n",
    "samples = {}\n",
    "for d in CLASSNAMES:\n",
    "    samples[d] = np.load(join(data_root, d+'_samples.npy'))\n",
    "\n",
    "# Sanity test:\n",
    "pia = samples[\"pia\"]\n",
    "sax = samples[\"sax\"]\n",
    "plt.plot(sax[10])\n",
    "\n",
    "test_sax = sax[10]\n",
    "test_sax_mfcc = librosa.feature.mfcc(test_sax,n_mfcc=30,sr=48000)\n",
    "print(test_sax_mfcc.shape)\n",
    "\n",
    "for classname in tqdm(CLASSNAMES):\n",
    "    class_samples = samples[classname] \n",
    "    samples_mfcc = []\n",
    "    (num_samples, sample_length) = class_samples.shape # e.g samples.shape=(672,12000)\n",
    "    for i in tqdm(range(num_samples)):\n",
    "        sample = class_samples[i]\n",
    "        sample_mfcc = librosa.feature.mfcc(sample,n_mfcc=30,sr=48000)\n",
    "        samples_mfcc.append(sample_mfcc)\n",
    "    samples_mfcc = np.asarray(samples_mfcc)\n",
    "    print (classname, samples_mfcc.shape)\n",
    "    file_path = join(FEATURE_DIR, classname + '_mfcc.npy')\n",
    "    with open(file_path, 'w+') as f:\n",
    "        np.save(f, samples_mfcc)\n"
   ]
  },
  {
   "cell_type": "code",
   "execution_count": null,
   "metadata": {
    "collapsed": true
   },
   "outputs": [],
   "source": []
  }
 ],
 "metadata": {
  "kernelspec": {
   "display_name": "venv",
   "language": "python",
   "name": "venv"
  },
  "language_info": {
   "codemirror_mode": {
    "name": "ipython",
    "version": 2
   },
   "file_extension": ".py",
   "mimetype": "text/x-python",
   "name": "python",
   "nbconvert_exporter": "python",
   "pygments_lexer": "ipython2",
   "version": "2.7.17"
  }
 },
 "nbformat": 4,
 "nbformat_minor": 2
}
